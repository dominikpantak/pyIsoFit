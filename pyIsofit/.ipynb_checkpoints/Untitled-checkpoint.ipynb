{
 "cells": [
  {
   "cell_type": "code",
   "execution_count": 3,
   "metadata": {},
   "outputs": [
    {
     "ename": "ModuleNotFoundError",
     "evalue": "No module named 'pyIsofit'",
     "output_type": "error",
     "traceback": [
      "\u001b[1;31m---------------------------------------------------------------------------\u001b[0m",
      "\u001b[1;31mModuleNotFoundError\u001b[0m                       Traceback (most recent call last)",
      "\u001b[1;32m<ipython-input-3-e7a27d9e3c8f>\u001b[0m in \u001b[0;36m<module>\u001b[1;34m\u001b[0m\n\u001b[1;32m----> 1\u001b[1;33m \u001b[1;32mimport\u001b[0m \u001b[0mpyIsofit\u001b[0m\u001b[1;33m\u001b[0m\u001b[1;33m\u001b[0m\u001b[0m\n\u001b[0m",
      "\u001b[1;31mModuleNotFoundError\u001b[0m: No module named 'pyIsofit'"
     ]
    }
   ],
   "source": [
    "import pyIsofit"
   ]
  },
  {
   "cell_type": "markdown",
   "metadata": {},
   "source": [
    "Test file\n",
    "---------------------------\n",
    "\n",
    "FITTING ANY MODELS FOR A SINGLE DATAFRAME\n",
    "\n",
    "To fit data first create a Pandas Dataframe variable using pd.read_csv() (or json). The file must contain all datasets\n",
    "    to be fitted (any number of datasets), with unique keys for each pressure and uptake:\n",
    "    \n",
    "    i.e the column header for the pressure of the first dataset is 'p@0C', for the second dataset it's 'p@20C' ect.\n",
    "        df = pd.read_csv('my_file.csv')\n"
   ]
  },
  {
   "cell_type": "code",
   "execution_count": null,
   "metadata": {},
   "outputs": [],
   "source": [
    "df = pd.read_csv()"
   ]
  },
  {
   "cell_type": "markdown",
   "metadata": {},
   "source": [
    "Next, define a list of integers (or floats) which include the temperatures of each dataset:\n",
    "        temps = [0, 20, ...]\n",
    "\n",
    "Next, define the keys for the package to extract the data. This requires a list of strings.\n",
    "    i.e key_pressures = ['p@0C', 'p@20C', '...']\n",
    "        key_uptakes = ['q@0C', 'q@20C', '...']\n",
    "\n",
    "\n",
    "\n",
    "To fit this data to a model, create an instance of the IsothermFit class. This requires the user choosing a model from\n",
    "the following list:\n",
    "\n",
    "            ['mdr', 'mdr td', 'langmuir', 'langmuir linear 1', 'langmuir linear 2', 'langmuir td',\n",
    "           'dsl nc', 'dsl', 'gab', 'sips', 'toth', 'toth td', 'bddt', 'bddt 2n', 'bddt 2n-1',\n",
    "           'dodo', 'bet']\n",
    "\n",
    "Notes:\n",
    "        - 'td' means temperature dependent - i.e equilibrium constant is temperature dependent { b = b0 * exp(-H/RT) }\n",
    "        - 'toth td' does not currently work (WIP)\n",
    "        - 'langmuir linear 1' is using the linear form of langmuir with axis 1/q vs. 1/p\n",
    "        - 'langmuir linear 2' is using the linear form of langmuir with axis p/q vs. p\n",
    "        - There are two forms of the bddt isotherm, both with the same parameters. One is for an n (layers) of 2n,\n",
    "         and the other is for a n (layers) of 2n-1. Choosing 'bddt' will fit to the 'bddt 2n' isotherm model.\n",
    "        - High parameter models may require custom guess values to work further discussed below.\n",
    "        - Inputting a list of dataframes is only supported for the 'dsl' fitting procedure - further discussed below"
   ]
  }
 ],
 "metadata": {
  "kernelspec": {
   "display_name": "Python 3",
   "language": "python",
   "name": "python3"
  },
  "language_info": {
   "codemirror_mode": {
    "name": "ipython",
    "version": 3
   },
   "file_extension": ".py",
   "mimetype": "text/x-python",
   "name": "python",
   "nbconvert_exporter": "python",
   "pygments_lexer": "ipython3",
   "version": "3.8.5"
  }
 },
 "nbformat": 4,
 "nbformat_minor": 4
}
